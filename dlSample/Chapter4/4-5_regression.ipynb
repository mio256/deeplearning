{
 "cells": [
  {
   "cell_type": "markdown",
   "metadata": {},
   "source": [
    "### 4.5.5 ニューラルネットワーク（回帰）"
   ]
  },
  {
   "cell_type": "code",
   "execution_count": 3,
   "metadata": {},
   "outputs": [
    {
     "data": {
      "image/png": "[encoded data removed]",
      "text/plain": [
       "<Figure size 432x288 with 2 Axes>"
      ]
     },
     "metadata": {
      "needs_background": "light"
     },
     "output_type": "display_data"
    }
   ],
   "source": [
    "%matplotlib inline\n",
    "\n",
    "import numpy as np\n",
    "import matplotlib.pyplot as plt\n",
    "\n",
    "# x、y座標\n",
    "X = np.arange(-1.0, 1.0, 0.2)  # 要素数は10個\n",
    "Y = np.arange(-1.0, 1.0, 0.2)\n",
    "\n",
    "# 出力を格納する10x10のグリッド\n",
    "Z = np.zeros((10,10))\n",
    "\n",
    "# 重み\n",
    "w_im = np.array([[4.0,4.0],\n",
    "                 [4.0,4.0]])  # 中間層 2x2の行列\n",
    "w_mo = np.array([[1.0],\n",
    "                 [-1.0]])     # 出力層 2x1の行列\n",
    "\n",
    "# バイアス\n",
    "b_im = np.array([3.0,-3.0]) # 中間層\n",
    "b_mo = np.array([0.1])      # 出力層 \n",
    "\n",
    "# 中間層\n",
    "def middle_layer(x, w, b):\n",
    "    u = np.dot(x, w) + b\n",
    "    return 1/(1+np.exp(-u)) # シグモイド関数\n",
    "\n",
    "# 出力層\n",
    "def output_layer(x, w, b):\n",
    "    u = np.dot(x, w) + b\n",
    "    return u  # 恒等関数\n",
    "\n",
    "# グリッドの各マスでニューラルネットワークの演算\n",
    "for i in range(10):\n",
    "    for j in range(10):\n",
    "        \n",
    "        # 順伝播\n",
    "        inp = np.array([X[i], Y[j]])        # 入力層\n",
    "        mid = middle_layer(inp, w_im, b_im) # 中間層\n",
    "        out = output_layer(mid, w_mo, b_mo) # 出力層\n",
    "        \n",
    "        # グリッドにNNの出力を格納\n",
    "        Z[j][i] = out[0]\n",
    "\n",
    "# グリッドの表示\n",
    "plt.imshow(Z, \"gray\", vmin = 0.0, vmax = 1.0)\n",
    "plt.colorbar()  \n",
    "plt.show()"
   ]
  },
  {
   "cell_type": "code",
   "execution_count": null,
   "metadata": {},
   "outputs": [],
   "source": []
  }
 ],
 "metadata": {
  "interpreter": {
   "hash": "31f2aee4e71d21fbe5cf8b01ff0e069b9275f58929596ceb00d14d90e3e16cd6"
  },
  "kernelspec": {
   "display_name": "Python 3",
   "language": "python",
   "name": "python3"
  },
  "language_info": {
   "codemirror_mode": {
    "name": "ipython",
    "version": 3
   },
   "file_extension": ".py",
   "mimetype": "text/x-python",
   "name": "python",
   "nbconvert_exporter": "python",
   "pygments_lexer": "ipython3",
   "version": "3.8.8"
  }
 },
 "nbformat": 4,
 "nbformat_minor": 2
}
